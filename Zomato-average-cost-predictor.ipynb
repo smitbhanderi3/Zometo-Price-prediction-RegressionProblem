{
 "cells": [
  {
   "cell_type": "code",
   "execution_count": 1,
   "id": "b80f5f4e",
   "metadata": {},
   "outputs": [],
   "source": [
    "import numpy as np\n",
    "import pandas as pd\n",
    "import matplotlib.pyplot as plt\n",
    "%matplotlib inline"
   ]
  },
  {
   "cell_type": "code",
   "execution_count": 2,
   "id": "e247bf77",
   "metadata": {},
   "outputs": [
    {
     "data": {
      "image/png": "[encoded data removed]",
      "text/plain": [
       "<IPython.core.display.Image object>"
      ]
     },
     "execution_count": 2,
     "metadata": {
      "image/png": {
       "height": 500,
       "width": 500
      }
     },
     "output_type": "execute_result"
    }
   ],
   "source": [
    " from IPython.display import Image\n",
    "url = (\"images.png\")\n",
    "Image(url, width=500, height=500)\n"
   ]
  },
  {
   "cell_type": "code",
   "execution_count": 3,
   "id": "2f0ab383",
   "metadata": {},
   "outputs": [],
   "source": [
    "pd.set_option('display.max_rows', 700)\n",
    "pd.set_option('display.max_columns', 500)\n",
    "pd.set_option('display.width', 1000)"
   ]
  },
  {
   "cell_type": "code",
   "execution_count": 4,
   "id": "f30f576d",
   "metadata": {},
   "outputs": [],
   "source": [
    "df = pd.read_csv(\"zomato.csv\",encoding=\"latin-1\")"
   ]
  },
  {
   "cell_type": "code",
   "execution_count": 5,
   "id": "6e85bfa2",
   "metadata": {},
   "outputs": [
    {
     "data": {
      "text/html": [
       "<div>\n",
       "<style scoped>\n",
       "    .dataframe tbody tr th:only-of-type {\n",
       "        vertical-align: middle;\n",
       "    }\n",
       "\n",
       "    .dataframe tbody tr th {\n",
       "        vertical-align: top;\n",
       "    }\n",
       "\n",
       "    .dataframe thead th {\n",
       "        text-align: right;\n",
       "    }\n",
       "</style>\n",
       "<table border=\"1\" class=\"dataframe\">\n",
       "  <thead>\n",
       "    <tr style=\"text-align: right;\">\n",
       "      <th></th>\n",
       "      <th>Restaurant ID</th>\n",
       "      <th>Restaurant Name</th>\n",
       "      <th>Country Code</th>\n",
       "      <th>City</th>\n",
       "      <th>Address</th>\n",
       "      <th>Locality</th>\n",
       "      <th>Locality Verbose</th>\n",
       "      <th>Longitude</th>\n",
       "      <th>Latitude</th>\n",
       "      <th>Cuisines</th>\n",
       "      <th>Average Cost for two</th>\n",
       "      <th>Currency</th>\n",
       "      <th>Has Table booking</th>\n",
       "      <th>Has Online delivery</th>\n",
       "      <th>Is delivering now</th>\n",
       "      <th>Switch to order menu</th>\n",
       "      <th>Price range</th>\n",
       "      <th>Aggregate rating</th>\n",
       "      <th>Rating color</th>\n",
       "      <th>Rating text</th>\n",
       "      <th>Votes</th>\n",
       "    </tr>\n",
       "  </thead>\n",
       "  <tbody>\n",
       "    <tr>\n",
       "      <th>1606</th>\n",
       "      <td>1029</td>\n",
       "      <td>Mini's Royal Cafe</td>\n",
       "      <td>1</td>\n",
       "      <td>Gurgaon</td>\n",
       "      <td>Krishna Colony Corner, Near Taneja Hospital, N...</td>\n",
       "      <td>Old Railway Road</td>\n",
       "      <td>Old Railway Road, Gurgaon</td>\n",
       "      <td>77.013644</td>\n",
       "      <td>28.467020</td>\n",
       "      <td>North Indian, Chinese</td>\n",
       "      <td>500</td>\n",
       "      <td>Indian Rupees(Rs.)</td>\n",
       "      <td>No</td>\n",
       "      <td>No</td>\n",
       "      <td>No</td>\n",
       "      <td>No</td>\n",
       "      <td>2</td>\n",
       "      <td>3.3</td>\n",
       "      <td>Orange</td>\n",
       "      <td>Average</td>\n",
       "      <td>21</td>\n",
       "    </tr>\n",
       "    <tr>\n",
       "      <th>6202</th>\n",
       "      <td>7274</td>\n",
       "      <td>Shree Durga Dosa</td>\n",
       "      <td>1</td>\n",
       "      <td>New Delhi</td>\n",
       "      <td>Gg-14, Shop 561, Near HDFC Bank, Paschim Vihar...</td>\n",
       "      <td>Paschim Vihar</td>\n",
       "      <td>Paschim Vihar, New Delhi</td>\n",
       "      <td>77.085032</td>\n",
       "      <td>28.670264</td>\n",
       "      <td>South Indian, Chinese</td>\n",
       "      <td>250</td>\n",
       "      <td>Indian Rupees(Rs.)</td>\n",
       "      <td>No</td>\n",
       "      <td>No</td>\n",
       "      <td>No</td>\n",
       "      <td>No</td>\n",
       "      <td>1</td>\n",
       "      <td>2.7</td>\n",
       "      <td>Orange</td>\n",
       "      <td>Average</td>\n",
       "      <td>27</td>\n",
       "    </tr>\n",
       "    <tr>\n",
       "      <th>2026</th>\n",
       "      <td>306976</td>\n",
       "      <td>KB's Kulfi &amp; Icecream</td>\n",
       "      <td>1</td>\n",
       "      <td>Gurgaon</td>\n",
       "      <td>1, Opposite Allahabad Bank, Sector 7 Chowk, Se...</td>\n",
       "      <td>Sector 7</td>\n",
       "      <td>Sector 7, Gurgaon</td>\n",
       "      <td>77.018415</td>\n",
       "      <td>28.472672</td>\n",
       "      <td>Ice Cream</td>\n",
       "      <td>200</td>\n",
       "      <td>Indian Rupees(Rs.)</td>\n",
       "      <td>No</td>\n",
       "      <td>Yes</td>\n",
       "      <td>No</td>\n",
       "      <td>No</td>\n",
       "      <td>1</td>\n",
       "      <td>2.8</td>\n",
       "      <td>Orange</td>\n",
       "      <td>Average</td>\n",
       "      <td>11</td>\n",
       "    </tr>\n",
       "    <tr>\n",
       "      <th>1947</th>\n",
       "      <td>313408</td>\n",
       "      <td>Cherry Crossing Foods</td>\n",
       "      <td>1</td>\n",
       "      <td>Gurgaon</td>\n",
       "      <td>Sector 45, Gurgaon</td>\n",
       "      <td>Sector 45</td>\n",
       "      <td>Sector 45, Gurgaon</td>\n",
       "      <td>0.000000</td>\n",
       "      <td>0.000000</td>\n",
       "      <td>North Indian</td>\n",
       "      <td>300</td>\n",
       "      <td>Indian Rupees(Rs.)</td>\n",
       "      <td>No</td>\n",
       "      <td>No</td>\n",
       "      <td>No</td>\n",
       "      <td>No</td>\n",
       "      <td>1</td>\n",
       "      <td>0.0</td>\n",
       "      <td>White</td>\n",
       "      <td>Not rated</td>\n",
       "      <td>3</td>\n",
       "    </tr>\n",
       "    <tr>\n",
       "      <th>6558</th>\n",
       "      <td>18455210</td>\n",
       "      <td>Foodies Joint</td>\n",
       "      <td>1</td>\n",
       "      <td>New Delhi</td>\n",
       "      <td>4A/1, Bada Bazar Road, Rajinder Nagar, New Delhi</td>\n",
       "      <td>Rajinder Nagar</td>\n",
       "      <td>Rajinder Nagar, New Delhi</td>\n",
       "      <td>77.183037</td>\n",
       "      <td>28.638231</td>\n",
       "      <td>Fast Food, North Indian, Chinese</td>\n",
       "      <td>300</td>\n",
       "      <td>Indian Rupees(Rs.)</td>\n",
       "      <td>No</td>\n",
       "      <td>No</td>\n",
       "      <td>No</td>\n",
       "      <td>No</td>\n",
       "      <td>1</td>\n",
       "      <td>3.4</td>\n",
       "      <td>Orange</td>\n",
       "      <td>Average</td>\n",
       "      <td>20</td>\n",
       "    </tr>\n",
       "  </tbody>\n",
       "</table>\n",
       "</div>"
      ],
      "text/plain": [
       "      Restaurant ID        Restaurant Name  Country Code       City                                            Address          Locality           Locality Verbose  Longitude   Latitude                          Cuisines  Average Cost for two            Currency Has Table booking Has Online delivery Is delivering now Switch to order menu  Price range  Aggregate rating Rating color Rating text  Votes\n",
       "1606           1029      Mini's Royal Cafe             1    Gurgaon  Krishna Colony Corner, Near Taneja Hospital, N...  Old Railway Road  Old Railway Road, Gurgaon  77.013644  28.467020             North Indian, Chinese                   500  Indian Rupees(Rs.)                No                  No                No                   No            2               3.3       Orange     Average     21\n",
       "6202           7274       Shree Durga Dosa             1  New Delhi  Gg-14, Shop 561, Near HDFC Bank, Paschim Vihar...     Paschim Vihar   Paschim Vihar, New Delhi  77.085032  28.670264             South Indian, Chinese                   250  Indian Rupees(Rs.)                No                  No                No                   No            1               2.7       Orange     Average     27\n",
       "2026         306976  KB's Kulfi & Icecream             1    Gurgaon  1, Opposite Allahabad Bank, Sector 7 Chowk, Se...          Sector 7          Sector 7, Gurgaon  77.018415  28.472672                         Ice Cream                   200  Indian Rupees(Rs.)                No                 Yes                No                   No            1               2.8       Orange     Average     11\n",
       "1947         313408  Cherry Crossing Foods             1    Gurgaon                                 Sector 45, Gurgaon         Sector 45         Sector 45, Gurgaon   0.000000   0.000000                      North Indian                   300  Indian Rupees(Rs.)                No                  No                No                   No            1               0.0        White   Not rated      3\n",
       "6558       18455210          Foodies Joint             1  New Delhi   4A/1, Bada Bazar Road, Rajinder Nagar, New Delhi    Rajinder Nagar  Rajinder Nagar, New Delhi  77.183037  28.638231  Fast Food, North Indian, Chinese                   300  Indian Rupees(Rs.)                No                  No                No                   No            1               3.4       Orange     Average     20"
      ]
     },
     "execution_count": 5,
     "metadata": {},
     "output_type": "execute_result"
    }
   ],
   "source": [
    "df.sample(5)"
   ]
  },
  {
   "cell_type": "code",
   "execution_count": 6,
   "id": "bb18f6a0",
   "metadata": {},
   "outputs": [
    {
     "name": "stdout",
     "output_type": "stream",
     "text": [
      "<class 'pandas.core.frame.DataFrame'>\n",
      "RangeIndex: 9551 entries, 0 to 9550\n",
      "Data columns (total 21 columns):\n",
      " #   Column                Non-Null Count  Dtype  \n",
      "---  ------                --------------  -----  \n",
      " 0   Restaurant ID         9551 non-null   int64  \n",
      " 1   Restaurant Name       9551 non-null   object \n",
      " 2   Country Code          9551 non-null   int64  \n",
      " 3   City                  9551 non-null   object \n",
      " 4   Address               9551 non-null   object \n",
      " 5   Locality              9551 non-null   object \n",
      " 6   Locality Verbose      9551 non-null   object \n",
      " 7   Longitude             9551 non-null   float64\n",
      " 8   Latitude              9551 non-null   float64\n",
      " 9   Cuisines              9542 non-null   object \n",
      " 10  Average Cost for two  9551 non-null   int64  \n",
      " 11  Currency              9551 non-null   object \n",
      " 12  Has Table booking     9551 non-null   object \n",
      " 13  Has Online delivery   9551 non-null   object \n",
      " 14  Is delivering now     9551 non-null   object \n",
      " 15  Switch to order menu  9551 non-null   object \n",
      " 16  Price range           9551 non-null   int64  \n",
      " 17  Aggregate rating      9551 non-null   float64\n",
      " 18  Rating color          9551 non-null   object \n",
      " 19  Rating text           9551 non-null   object \n",
      " 20  Votes                 9551 non-null   int64  \n",
      "dtypes: float64(3), int64(5), object(13)\n",
      "memory usage: 1.5+ MB\n"
     ]
    }
   ],
   "source": [
    "df.info()"
   ]
  },
  {
   "cell_type": "code",
   "execution_count": 7,
   "id": "1a526bbf",
   "metadata": {},
   "outputs": [
    {
     "data": {
      "text/plain": [
       "(9551, 21)"
      ]
     },
     "execution_count": 7,
     "metadata": {},
     "output_type": "execute_result"
    }
   ],
   "source": [
    "df.shape"
   ]
  },
  {
   "cell_type": "code",
   "execution_count": 8,
   "id": "6938d37e",
   "metadata": {},
   "outputs": [],
   "source": [
    "#now i change object convert in Caategory some column:\n",
    "df[\"Rating color\"] = df[\"Rating color\"].astype(\"category\")\n",
    "df[\"Rating text\"] = df[\"Rating text\"].astype(\"category\")\n",
    "df[\"Price range\"] = df[\"Price range\"].astype(\"category\")"
   ]
  },
  {
   "cell_type": "code",
   "execution_count": 9,
   "id": "fd685899",
   "metadata": {},
   "outputs": [
    {
     "data": {
      "text/plain": [
       "4"
      ]
     },
     "execution_count": 9,
     "metadata": {},
     "output_type": "execute_result"
    }
   ],
   "source": [
    "df[\"Price range\"].nunique()"
   ]
  },
  {
   "cell_type": "code",
   "execution_count": 10,
   "id": "63cc5d33",
   "metadata": {},
   "outputs": [
    {
     "name": "stdout",
     "output_type": "stream",
     "text": [
      "<class 'pandas.core.frame.DataFrame'>\n",
      "RangeIndex: 9551 entries, 0 to 9550\n",
      "Data columns (total 21 columns):\n",
      " #   Column                Non-Null Count  Dtype   \n",
      "---  ------                --------------  -----   \n",
      " 0   Restaurant ID         9551 non-null   int64   \n",
      " 1   Restaurant Name       9551 non-null   object  \n",
      " 2   Country Code          9551 non-null   int64   \n",
      " 3   City                  9551 non-null   object  \n",
      " 4   Address               9551 non-null   object  \n",
      " 5   Locality              9551 non-null   object  \n",
      " 6   Locality Verbose      9551 non-null   object  \n",
      " 7   Longitude             9551 non-null   float64 \n",
      " 8   Latitude              9551 non-null   float64 \n",
      " 9   Cuisines              9542 non-null   object  \n",
      " 10  Average Cost for two  9551 non-null   int64   \n",
      " 11  Currency              9551 non-null   object  \n",
      " 12  Has Table booking     9551 non-null   object  \n",
      " 13  Has Online delivery   9551 non-null   object  \n",
      " 14  Is delivering now     9551 non-null   object  \n",
      " 15  Switch to order menu  9551 non-null   object  \n",
      " 16  Price range           9551 non-null   category\n",
      " 17  Aggregate rating      9551 non-null   float64 \n",
      " 18  Rating color          9551 non-null   category\n",
      " 19  Rating text           9551 non-null   category\n",
      " 20  Votes                 9551 non-null   int64   \n",
      "dtypes: category(3), float64(3), int64(4), object(11)\n",
      "memory usage: 1.3+ MB\n"
     ]
    }
   ],
   "source": [
    "df.info()"
   ]
  },
  {
   "cell_type": "code",
   "execution_count": 11,
   "id": "866aa6c9",
   "metadata": {},
   "outputs": [
    {
     "data": {
      "text/plain": [
       "Connaught Place, New Delhi                    122\n",
       "Rajouri Garden, New Delhi                      99\n",
       "Shahdara, New Delhi                            87\n",
       "Defence Colony, New Delhi                      86\n",
       "Pitampura, New Delhi                           85\n",
       "                                             ... \n",
       "Ramada Gurgaon Central, Sector 44, Gurgaon      1\n",
       "Sector 5, Gurgaon                               1\n",
       "Sector 53, Gurgaon                              1\n",
       "The Claremont, MG Road, Gurgaon                 1\n",
       "Moda, ÛÁstanbul                                 1\n",
       "Name: Locality Verbose, Length: 1265, dtype: int64"
      ]
     },
     "execution_count": 11,
     "metadata": {},
     "output_type": "execute_result"
    }
   ],
   "source": [
    "df['Locality Verbose'].value_counts()"
   ]
  },
  {
   "cell_type": "code",
   "execution_count": 12,
   "id": "4cd5e442",
   "metadata": {},
   "outputs": [
    {
     "data": {
      "text/html": [
       "<div>\n",
       "<style scoped>\n",
       "    .dataframe tbody tr th:only-of-type {\n",
       "        vertical-align: middle;\n",
       "    }\n",
       "\n",
       "    .dataframe tbody tr th {\n",
       "        vertical-align: top;\n",
       "    }\n",
       "\n",
       "    .dataframe thead th {\n",
       "        text-align: right;\n",
       "    }\n",
       "</style>\n",
       "<table border=\"1\" class=\"dataframe\">\n",
       "  <thead>\n",
       "    <tr style=\"text-align: right;\">\n",
       "      <th></th>\n",
       "      <th>Restaurant ID</th>\n",
       "      <th>Restaurant Name</th>\n",
       "      <th>Country Code</th>\n",
       "      <th>City</th>\n",
       "      <th>Address</th>\n",
       "      <th>Locality</th>\n",
       "      <th>Locality Verbose</th>\n",
       "      <th>Longitude</th>\n",
       "      <th>Latitude</th>\n",
       "      <th>Cuisines</th>\n",
       "      <th>Average Cost for two</th>\n",
       "      <th>Currency</th>\n",
       "      <th>Has Table booking</th>\n",
       "      <th>Has Online delivery</th>\n",
       "      <th>Is delivering now</th>\n",
       "      <th>Switch to order menu</th>\n",
       "      <th>Price range</th>\n",
       "      <th>Aggregate rating</th>\n",
       "      <th>Rating color</th>\n",
       "      <th>Rating text</th>\n",
       "      <th>Votes</th>\n",
       "    </tr>\n",
       "  </thead>\n",
       "  <tbody>\n",
       "    <tr>\n",
       "      <th>9384</th>\n",
       "      <td>6113680</td>\n",
       "      <td>Restaurant Gordon Ramsay</td>\n",
       "      <td>215</td>\n",
       "      <td>London</td>\n",
       "      <td>68 Royal Hospital Road, Chelsea, London SW3 4HP</td>\n",
       "      <td>Chelsea</td>\n",
       "      <td>Chelsea</td>\n",
       "      <td>-0.162092</td>\n",
       "      <td>51.485509</td>\n",
       "      <td>French</td>\n",
       "      <td>230</td>\n",
       "      <td>Pounds(£)</td>\n",
       "      <td>No</td>\n",
       "      <td>No</td>\n",
       "      <td>No</td>\n",
       "      <td>No</td>\n",
       "      <td>4</td>\n",
       "      <td>4.7</td>\n",
       "      <td>Dark Green</td>\n",
       "      <td>Excellent</td>\n",
       "      <td>320</td>\n",
       "    </tr>\n",
       "    <tr>\n",
       "      <th>9386</th>\n",
       "      <td>6100054</td>\n",
       "      <td>Masala Zone</td>\n",
       "      <td>215</td>\n",
       "      <td>London</td>\n",
       "      <td>48 Floral Street, Covent Garden, London WC2E 9DA</td>\n",
       "      <td>Covent Garden</td>\n",
       "      <td>Covent Garden</td>\n",
       "      <td>-0.123132</td>\n",
       "      <td>51.513196</td>\n",
       "      <td>Indian, Curry</td>\n",
       "      <td>30</td>\n",
       "      <td>Pounds(£)</td>\n",
       "      <td>Yes</td>\n",
       "      <td>No</td>\n",
       "      <td>No</td>\n",
       "      <td>No</td>\n",
       "      <td>2</td>\n",
       "      <td>4.1</td>\n",
       "      <td>Green</td>\n",
       "      <td>Very Good</td>\n",
       "      <td>316</td>\n",
       "    </tr>\n",
       "    <tr>\n",
       "      <th>9390</th>\n",
       "      <td>6102866</td>\n",
       "      <td>Hakkasan</td>\n",
       "      <td>215</td>\n",
       "      <td>London</td>\n",
       "      <td>17 Bruton Street, Mayfair, London W1J 6QB</td>\n",
       "      <td>Mayfair</td>\n",
       "      <td>Mayfair</td>\n",
       "      <td>-0.144861</td>\n",
       "      <td>51.510342</td>\n",
       "      <td>Chinese, Dim Sum</td>\n",
       "      <td>120</td>\n",
       "      <td>Pounds(£)</td>\n",
       "      <td>Yes</td>\n",
       "      <td>No</td>\n",
       "      <td>No</td>\n",
       "      <td>No</td>\n",
       "      <td>4</td>\n",
       "      <td>4.8</td>\n",
       "      <td>Dark Green</td>\n",
       "      <td>Excellent</td>\n",
       "      <td>395</td>\n",
       "    </tr>\n",
       "    <tr>\n",
       "      <th>9391</th>\n",
       "      <td>6103868</td>\n",
       "      <td>Nobu</td>\n",
       "      <td>215</td>\n",
       "      <td>London</td>\n",
       "      <td>15 Berkeley Street, Mayfair, London W1J 8DY</td>\n",
       "      <td>Mayfair</td>\n",
       "      <td>Mayfair</td>\n",
       "      <td>-0.143259</td>\n",
       "      <td>51.508811</td>\n",
       "      <td>Japanese, Sushi</td>\n",
       "      <td>100</td>\n",
       "      <td>Pounds(£)</td>\n",
       "      <td>Yes</td>\n",
       "      <td>No</td>\n",
       "      <td>No</td>\n",
       "      <td>No</td>\n",
       "      <td>4</td>\n",
       "      <td>4.4</td>\n",
       "      <td>Green</td>\n",
       "      <td>Very Good</td>\n",
       "      <td>311</td>\n",
       "    </tr>\n",
       "  </tbody>\n",
       "</table>\n",
       "</div>"
      ],
      "text/plain": [
       "      Restaurant ID           Restaurant Name  Country Code    City                                           Address       Locality Locality Verbose  Longitude   Latitude          Cuisines  Average Cost for two    Currency Has Table booking Has Online delivery Is delivering now Switch to order menu Price range  Aggregate rating Rating color Rating text  Votes\n",
       "9384        6113680  Restaurant Gordon Ramsay           215  London   68 Royal Hospital Road, Chelsea, London SW3 4HP        Chelsea          Chelsea  -0.162092  51.485509            French                   230  Pounds(£)                No                  No                No                   No           4               4.7   Dark Green   Excellent    320\n",
       "9386        6100054               Masala Zone           215  London  48 Floral Street, Covent Garden, London WC2E 9DA  Covent Garden    Covent Garden  -0.123132  51.513196     Indian, Curry                    30  Pounds(£)               Yes                  No                No                   No           2               4.1        Green   Very Good    316\n",
       "9390        6102866                  Hakkasan           215  London         17 Bruton Street, Mayfair, London W1J 6QB        Mayfair          Mayfair  -0.144861  51.510342  Chinese, Dim Sum                   120  Pounds(£)               Yes                  No                No                   No           4               4.8   Dark Green   Excellent    395\n",
       "9391        6103868                      Nobu           215  London       15 Berkeley Street, Mayfair, London W1J 8DY        Mayfair          Mayfair  -0.143259  51.508811   Japanese, Sushi                   100  Pounds(£)               Yes                  No                No                   No           4               4.4        Green   Very Good    311"
      ]
     },
     "execution_count": 12,
     "metadata": {},
     "output_type": "execute_result"
    }
   ],
   "source": [
    "df[df['Locality Verbose']==df['Locality']]"
   ]
  },
  {
   "cell_type": "code",
   "execution_count": 13,
   "id": "fd570a4d",
   "metadata": {},
   "outputs": [
    {
     "data": {
      "text/plain": [
       "1    4444\n",
       "2    3113\n",
       "3    1408\n",
       "4     586\n",
       "Name: Price range, dtype: int64"
      ]
     },
     "execution_count": 13,
     "metadata": {},
     "output_type": "execute_result"
    }
   ],
   "source": [
    "df[\"Price range\"].value_counts()"
   ]
  },
  {
   "cell_type": "code",
   "execution_count": 14,
   "id": "55f67deb",
   "metadata": {},
   "outputs": [
    {
     "data": {
      "text/plain": [
       "Index(['Restaurant ID', 'Restaurant Name', 'Country Code', 'City', 'Address', 'Locality', 'Locality Verbose', 'Longitude', 'Latitude', 'Cuisines', 'Average Cost for two', 'Currency', 'Has Table booking', 'Has Online delivery', 'Is delivering now', 'Switch to order menu', 'Price range', 'Aggregate rating', 'Rating color', 'Rating text', 'Votes'], dtype='object')"
      ]
     },
     "execution_count": 14,
     "metadata": {},
     "output_type": "execute_result"
    }
   ],
   "source": [
    "df.columns"
   ]
  },
  {
   "cell_type": "code",
   "execution_count": 15,
   "id": "45a80617",
   "metadata": {},
   "outputs": [],
   "source": [
    "df.drop(columns=['Restaurant ID','Is delivering now','Switch to order menu','Rating color', 'Rating text'],inplace=True)"
   ]
  },
  {
   "cell_type": "code",
   "execution_count": 16,
   "id": "fe2fbe40",
   "metadata": {},
   "outputs": [
    {
     "data": {
      "text/plain": [
       "Index(['Restaurant Name', 'Country Code', 'City', 'Address', 'Locality', 'Locality Verbose', 'Longitude', 'Latitude', 'Cuisines', 'Average Cost for two', 'Currency', 'Has Table booking', 'Has Online delivery', 'Price range', 'Aggregate rating', 'Votes'], dtype='object')"
      ]
     },
     "execution_count": 16,
     "metadata": {},
     "output_type": "execute_result"
    }
   ],
   "source": [
    "df.columns"
   ]
  },
  {
   "cell_type": "code",
   "execution_count": 17,
   "id": "29b450a7",
   "metadata": {},
   "outputs": [
    {
     "data": {
      "text/html": [
       "<div>\n",
       "<style scoped>\n",
       "    .dataframe tbody tr th:only-of-type {\n",
       "        vertical-align: middle;\n",
       "    }\n",
       "\n",
       "    .dataframe tbody tr th {\n",
       "        vertical-align: top;\n",
       "    }\n",
       "\n",
       "    .dataframe thead th {\n",
       "        text-align: right;\n",
       "    }\n",
       "</style>\n",
       "<table border=\"1\" class=\"dataframe\">\n",
       "  <thead>\n",
       "    <tr style=\"text-align: right;\">\n",
       "      <th></th>\n",
       "      <th>Country Code</th>\n",
       "      <th>Longitude</th>\n",
       "      <th>Latitude</th>\n",
       "      <th>Average Cost for two</th>\n",
       "      <th>Aggregate rating</th>\n",
       "      <th>Votes</th>\n",
       "    </tr>\n",
       "  </thead>\n",
       "  <tbody>\n",
       "    <tr>\n",
       "      <th>Country Code</th>\n",
       "      <td>1.000000</td>\n",
       "      <td>-0.698299</td>\n",
       "      <td>0.019792</td>\n",
       "      <td>0.043225</td>\n",
       "      <td>0.282189</td>\n",
       "      <td>0.154530</td>\n",
       "    </tr>\n",
       "    <tr>\n",
       "      <th>Longitude</th>\n",
       "      <td>-0.698299</td>\n",
       "      <td>1.000000</td>\n",
       "      <td>0.043207</td>\n",
       "      <td>0.045891</td>\n",
       "      <td>-0.116818</td>\n",
       "      <td>-0.085101</td>\n",
       "    </tr>\n",
       "    <tr>\n",
       "      <th>Latitude</th>\n",
       "      <td>0.019792</td>\n",
       "      <td>0.043207</td>\n",
       "      <td>1.000000</td>\n",
       "      <td>-0.111088</td>\n",
       "      <td>0.000516</td>\n",
       "      <td>-0.022962</td>\n",
       "    </tr>\n",
       "    <tr>\n",
       "      <th>Average Cost for two</th>\n",
       "      <td>0.043225</td>\n",
       "      <td>0.045891</td>\n",
       "      <td>-0.111088</td>\n",
       "      <td>1.000000</td>\n",
       "      <td>0.051792</td>\n",
       "      <td>0.067783</td>\n",
       "    </tr>\n",
       "    <tr>\n",
       "      <th>Aggregate rating</th>\n",
       "      <td>0.282189</td>\n",
       "      <td>-0.116818</td>\n",
       "      <td>0.000516</td>\n",
       "      <td>0.051792</td>\n",
       "      <td>1.000000</td>\n",
       "      <td>0.313691</td>\n",
       "    </tr>\n",
       "    <tr>\n",
       "      <th>Votes</th>\n",
       "      <td>0.154530</td>\n",
       "      <td>-0.085101</td>\n",
       "      <td>-0.022962</td>\n",
       "      <td>0.067783</td>\n",
       "      <td>0.313691</td>\n",
       "      <td>1.000000</td>\n",
       "    </tr>\n",
       "  </tbody>\n",
       "</table>\n",
       "</div>"
      ],
      "text/plain": [
       "                      Country Code  Longitude  Latitude  Average Cost for two  Aggregate rating     Votes\n",
       "Country Code              1.000000  -0.698299  0.019792              0.043225          0.282189  0.154530\n",
       "Longitude                -0.698299   1.000000  0.043207              0.045891         -0.116818 -0.085101\n",
       "Latitude                  0.019792   0.043207  1.000000             -0.111088          0.000516 -0.022962\n",
       "Average Cost for two      0.043225   0.045891 -0.111088              1.000000          0.051792  0.067783\n",
       "Aggregate rating          0.282189  -0.116818  0.000516              0.051792          1.000000  0.313691\n",
       "Votes                     0.154530  -0.085101 -0.022962              0.067783          0.313691  1.000000"
      ]
     },
     "execution_count": 17,
     "metadata": {},
     "output_type": "execute_result"
    }
   ],
   "source": [
    "df.corr()"
   ]
  },
  {
   "cell_type": "code",
   "execution_count": 18,
   "id": "6a52c8fd",
   "metadata": {},
   "outputs": [],
   "source": [
    "df=df[df[\"Country Code\"]==1]"
   ]
  },
  {
   "cell_type": "code",
   "execution_count": 19,
   "id": "63c53d7c",
   "metadata": {},
   "outputs": [
    {
     "name": "stdout",
     "output_type": "stream",
     "text": [
      "<class 'pandas.core.frame.DataFrame'>\n",
      "Int64Index: 8652 entries, 624 to 9275\n",
      "Data columns (total 16 columns):\n",
      " #   Column                Non-Null Count  Dtype   \n",
      "---  ------                --------------  -----   \n",
      " 0   Restaurant Name       8652 non-null   object  \n",
      " 1   Country Code          8652 non-null   int64   \n",
      " 2   City                  8652 non-null   object  \n",
      " 3   Address               8652 non-null   object  \n",
      " 4   Locality              8652 non-null   object  \n",
      " 5   Locality Verbose      8652 non-null   object  \n",
      " 6   Longitude             8652 non-null   float64 \n",
      " 7   Latitude              8652 non-null   float64 \n",
      " 8   Cuisines              8652 non-null   object  \n",
      " 9   Average Cost for two  8652 non-null   int64   \n",
      " 10  Currency              8652 non-null   object  \n",
      " 11  Has Table booking     8652 non-null   object  \n",
      " 12  Has Online delivery   8652 non-null   object  \n",
      " 13  Price range           8652 non-null   category\n",
      " 14  Aggregate rating      8652 non-null   float64 \n",
      " 15  Votes                 8652 non-null   int64   \n",
      "dtypes: category(1), float64(3), int64(3), object(9)\n",
      "memory usage: 1.1+ MB\n"
     ]
    }
   ],
   "source": [
    "df.info()"
   ]
  },
  {
   "cell_type": "code",
   "execution_count": 20,
   "id": "980312cd",
   "metadata": {},
   "outputs": [
    {
     "data": {
      "text/plain": [
       "(8652, 16)"
      ]
     },
     "execution_count": 20,
     "metadata": {},
     "output_type": "execute_result"
    }
   ],
   "source": [
    "df.shape"
   ]
  },
  {
   "cell_type": "code",
   "execution_count": 21,
   "id": "dca4d749",
   "metadata": {},
   "outputs": [
    {
     "data": {
      "text/plain": [
       "Index(['Restaurant Name', 'Country Code', 'City', 'Address', 'Locality', 'Locality Verbose', 'Longitude', 'Latitude', 'Cuisines', 'Average Cost for two', 'Currency', 'Has Table booking', 'Has Online delivery', 'Price range', 'Aggregate rating', 'Votes'], dtype='object')"
      ]
     },
     "execution_count": 21,
     "metadata": {},
     "output_type": "execute_result"
    }
   ],
   "source": [
    "df.columns"
   ]
  },
  {
   "cell_type": "code",
   "execution_count": 22,
   "id": "21bf465e",
   "metadata": {},
   "outputs": [
    {
     "data": {
      "text/plain": [
       "New Delhi       5473\n",
       "Gurgaon         1118\n",
       "Noida           1080\n",
       "Faridabad        251\n",
       "Ghaziabad         25\n",
       "Ahmedabad         21\n",
       "Guwahati          21\n",
       "Lucknow           21\n",
       "Bhubaneshwar      21\n",
       "Amritsar          21\n",
       "Pune              20\n",
       "Puducherry        20\n",
       "Patna             20\n",
       "Ludhiana          20\n",
       "Ranchi            20\n",
       "Surat             20\n",
       "Vadodara          20\n",
       "Nashik            20\n",
       "Nagpur            20\n",
       "Mysore            20\n",
       "Mumbai            20\n",
       "Varanasi          20\n",
       "Mangalore         20\n",
       "Agra              20\n",
       "Kochi             20\n",
       "Kolkata           20\n",
       "Dehradun          20\n",
       "Allahabad         20\n",
       "Aurangabad        20\n",
       "Bangalore         20\n",
       "Bhopal            20\n",
       "Chennai           20\n",
       "Coimbatore        20\n",
       "Goa               20\n",
       "Indore            20\n",
       "Jaipur            20\n",
       "Kanpur            20\n",
       "Vizag             20\n",
       "Chandigarh        18\n",
       "Hyderabad         18\n",
       "Secunderabad       2\n",
       "Panchkula          1\n",
       "Mohali             1\n",
       "Name: City, dtype: int64"
      ]
     },
     "execution_count": 22,
     "metadata": {},
     "output_type": "execute_result"
    }
   ],
   "source": [
    "df[\"City\"].value_counts()"
   ]
  },
  {
   "cell_type": "code",
   "execution_count": 23,
   "id": "c1429dd9",
   "metadata": {},
   "outputs": [],
   "source": [
    "df = df[df[\"City\"].isin([\"New Delhi\",\"Gurgaon\",\"Noida\",\"Faridabad\"])]"
   ]
  },
  {
   "cell_type": "code",
   "execution_count": 24,
   "id": "407f4618",
   "metadata": {},
   "outputs": [
    {
     "data": {
      "text/plain": [
       "(7922, 16)"
      ]
     },
     "execution_count": 24,
     "metadata": {},
     "output_type": "execute_result"
    }
   ],
   "source": [
    "df.shape"
   ]
  },
  {
   "cell_type": "code",
   "execution_count": 25,
   "id": "44cf930e",
   "metadata": {},
   "outputs": [],
   "source": [
    "df.drop(columns=['Country Code','Address','Locality', 'Locality Verbose','Currency','Restaurant Name'],inplace=True)"
   ]
  },
  {
   "cell_type": "code",
   "execution_count": 26,
   "id": "a04356d2",
   "metadata": {},
   "outputs": [
    {
     "data": {
      "text/plain": [
       "(7922, 10)"
      ]
     },
     "execution_count": 26,
     "metadata": {},
     "output_type": "execute_result"
    }
   ],
   "source": [
    "df.shape"
   ]
  },
  {
   "cell_type": "code",
   "execution_count": 27,
   "id": "8d7aaaa3",
   "metadata": {},
   "outputs": [
    {
     "data": {
      "text/plain": [
       "Index(['City', 'Longitude', 'Latitude', 'Cuisines', 'Average Cost for two', 'Has Table booking', 'Has Online delivery', 'Price range', 'Aggregate rating', 'Votes'], dtype='object')"
      ]
     },
     "execution_count": 27,
     "metadata": {},
     "output_type": "execute_result"
    }
   ],
   "source": [
    "df.columns"
   ]
  },
  {
   "cell_type": "code",
   "execution_count": 28,
   "id": "e0bd2748",
   "metadata": {},
   "outputs": [],
   "source": [
    "df['Has Table booking'].replace({'Yes':1,'No':0},inplace=True)\n",
    "df['Has Online delivery'].replace({'Yes':1,'No':0},inplace=True)"
   ]
  },
  {
   "cell_type": "code",
   "execution_count": 29,
   "id": "2af739b7",
   "metadata": {},
   "outputs": [
    {
     "data": {
      "text/plain": [
       "Index(['City', 'Longitude', 'Latitude', 'Cuisines', 'Average Cost for two', 'Has Table booking', 'Has Online delivery', 'Price range', 'Aggregate rating', 'Votes'], dtype='object')"
      ]
     },
     "execution_count": 29,
     "metadata": {},
     "output_type": "execute_result"
    }
   ],
   "source": [
    "df.columns"
   ]
  },
  {
   "cell_type": "code",
   "execution_count": 30,
   "id": "7da5abea",
   "metadata": {},
   "outputs": [
    {
     "name": "stdout",
     "output_type": "stream",
     "text": [
      "<class 'pandas.core.frame.DataFrame'>\n",
      "Int64Index: 7922 entries, 865 to 9112\n",
      "Data columns (total 10 columns):\n",
      " #   Column                Non-Null Count  Dtype   \n",
      "---  ------                --------------  -----   \n",
      " 0   City                  7922 non-null   object  \n",
      " 1   Longitude             7922 non-null   float64 \n",
      " 2   Latitude              7922 non-null   float64 \n",
      " 3   Cuisines              7922 non-null   object  \n",
      " 4   Average Cost for two  7922 non-null   int64   \n",
      " 5   Has Table booking     7922 non-null   int64   \n",
      " 6   Has Online delivery   7922 non-null   int64   \n",
      " 7   Price range           7922 non-null   category\n",
      " 8   Aggregate rating      7922 non-null   float64 \n",
      " 9   Votes                 7922 non-null   int64   \n",
      "dtypes: category(1), float64(3), int64(4), object(2)\n",
      "memory usage: 626.8+ KB\n"
     ]
    }
   ],
   "source": [
    "df.info()"
   ]
  },
  {
   "cell_type": "code",
   "execution_count": 31,
   "id": "32e7d830",
   "metadata": {},
   "outputs": [
    {
     "data": {
      "text/plain": [
       "Longitude               0.071752\n",
       "Latitude                0.070993\n",
       "Average Cost for two    1.000000\n",
       "Has Table booking       0.642966\n",
       "Has Online delivery     0.076953\n",
       "Aggregate rating        0.328440\n",
       "Votes                   0.299089\n",
       "Name: Average Cost for two, dtype: float64"
      ]
     },
     "execution_count": 31,
     "metadata": {},
     "output_type": "execute_result"
    }
   ],
   "source": [
    "df.corr()['Average Cost for two']"
   ]
  },
  {
   "cell_type": "code",
   "execution_count": 32,
   "id": "1ac26257",
   "metadata": {},
   "outputs": [],
   "source": [
    "df.drop(columns=['Has Online delivery','Price range'],inplace=True)"
   ]
  },
  {
   "cell_type": "code",
   "execution_count": 33,
   "id": "df846db2",
   "metadata": {},
   "outputs": [
    {
     "data": {
      "text/plain": [
       "Longitude               0.071752\n",
       "Latitude                0.070993\n",
       "Average Cost for two    1.000000\n",
       "Has Table booking       0.642966\n",
       "Aggregate rating        0.328440\n",
       "Votes                   0.299089\n",
       "Name: Average Cost for two, dtype: float64"
      ]
     },
     "execution_count": 33,
     "metadata": {},
     "output_type": "execute_result"
    }
   ],
   "source": [
    "df.corr()['Average Cost for two']"
   ]
  },
  {
   "cell_type": "code",
   "execution_count": 34,
   "id": "2d395c09",
   "metadata": {},
   "outputs": [
    {
     "data": {
      "text/plain": [
       "1156"
      ]
     },
     "execution_count": 34,
     "metadata": {},
     "output_type": "execute_result"
    }
   ],
   "source": [
    "len(df['Cuisines'].value_counts())"
   ]
  },
  {
   "cell_type": "markdown",
   "id": "dd11eb85",
   "metadata": {},
   "source": [
    "#### See label encoding and one hot encoding"
   ]
  },
  {
   "cell_type": "code",
   "execution_count": 35,
   "id": "70ffb995",
   "metadata": {},
   "outputs": [
    {
     "data": {
      "text/plain": [
       "North Indian                                      901\n",
       "North Indian, Chinese                             474\n",
       "Fast Food                                         330\n",
       "Chinese                                           323\n",
       "North Indian, Mughlai                             313\n",
       "                                                 ... \n",
       "North Indian, Indian                                1\n",
       "Afghani, Mughlai, Chinese                           1\n",
       "Awadhi, Mughlai, North Indian                       1\n",
       "Chinese, Lucknowi                                   1\n",
       "Chinese, North Indian, South Indian, Fast Food      1\n",
       "Name: Cuisines, Length: 1156, dtype: int64"
      ]
     },
     "execution_count": 35,
     "metadata": {},
     "output_type": "execute_result"
    }
   ],
   "source": [
    "df['Cuisines'].value_counts()"
   ]
  },
  {
   "cell_type": "code",
   "execution_count": 36,
   "id": "64790835",
   "metadata": {},
   "outputs": [
    {
     "data": {
      "text/html": [
       "<div>\n",
       "<style scoped>\n",
       "    .dataframe tbody tr th:only-of-type {\n",
       "        vertical-align: middle;\n",
       "    }\n",
       "\n",
       "    .dataframe tbody tr th {\n",
       "        vertical-align: top;\n",
       "    }\n",
       "\n",
       "    .dataframe thead th {\n",
       "        text-align: right;\n",
       "    }\n",
       "</style>\n",
       "<table border=\"1\" class=\"dataframe\">\n",
       "  <thead>\n",
       "    <tr style=\"text-align: right;\">\n",
       "      <th></th>\n",
       "      <th>City</th>\n",
       "      <th>Longitude</th>\n",
       "      <th>Latitude</th>\n",
       "      <th>Cuisines</th>\n",
       "      <th>Average Cost for two</th>\n",
       "      <th>Has Table booking</th>\n",
       "      <th>Aggregate rating</th>\n",
       "      <th>Votes</th>\n",
       "    </tr>\n",
       "  </thead>\n",
       "  <tbody>\n",
       "    <tr>\n",
       "      <th>865</th>\n",
       "      <td>Faridabad</td>\n",
       "      <td>77.306640</td>\n",
       "      <td>28.490059</td>\n",
       "      <td>Chinese, Fast Food, Bakery</td>\n",
       "      <td>250</td>\n",
       "      <td>0</td>\n",
       "      <td>2.9</td>\n",
       "      <td>4</td>\n",
       "    </tr>\n",
       "    <tr>\n",
       "      <th>866</th>\n",
       "      <td>Faridabad</td>\n",
       "      <td>77.304776</td>\n",
       "      <td>28.490157</td>\n",
       "      <td>North Indian, Chinese</td>\n",
       "      <td>500</td>\n",
       "      <td>0</td>\n",
       "      <td>2.8</td>\n",
       "      <td>16</td>\n",
       "    </tr>\n",
       "    <tr>\n",
       "      <th>867</th>\n",
       "      <td>Faridabad</td>\n",
       "      <td>77.305563</td>\n",
       "      <td>28.490137</td>\n",
       "      <td>North Indian</td>\n",
       "      <td>150</td>\n",
       "      <td>0</td>\n",
       "      <td>2.8</td>\n",
       "      <td>8</td>\n",
       "    </tr>\n",
       "    <tr>\n",
       "      <th>868</th>\n",
       "      <td>Faridabad</td>\n",
       "      <td>77.306102</td>\n",
       "      <td>28.490098</td>\n",
       "      <td>North Indian</td>\n",
       "      <td>150</td>\n",
       "      <td>0</td>\n",
       "      <td>2.9</td>\n",
       "      <td>8</td>\n",
       "    </tr>\n",
       "    <tr>\n",
       "      <th>869</th>\n",
       "      <td>Faridabad</td>\n",
       "      <td>77.305745</td>\n",
       "      <td>28.490062</td>\n",
       "      <td>Bakery</td>\n",
       "      <td>100</td>\n",
       "      <td>0</td>\n",
       "      <td>2.8</td>\n",
       "      <td>7</td>\n",
       "    </tr>\n",
       "    <tr>\n",
       "      <th>...</th>\n",
       "      <td>...</td>\n",
       "      <td>...</td>\n",
       "      <td>...</td>\n",
       "      <td>...</td>\n",
       "      <td>...</td>\n",
       "      <td>...</td>\n",
       "      <td>...</td>\n",
       "      <td>...</td>\n",
       "    </tr>\n",
       "    <tr>\n",
       "      <th>9108</th>\n",
       "      <td>Noida</td>\n",
       "      <td>77.367524</td>\n",
       "      <td>28.557537</td>\n",
       "      <td>North Indian, Chinese</td>\n",
       "      <td>700</td>\n",
       "      <td>0</td>\n",
       "      <td>2.6</td>\n",
       "      <td>34</td>\n",
       "    </tr>\n",
       "    <tr>\n",
       "      <th>9109</th>\n",
       "      <td>Noida</td>\n",
       "      <td>77.367303</td>\n",
       "      <td>28.557929</td>\n",
       "      <td>Fast Food</td>\n",
       "      <td>400</td>\n",
       "      <td>0</td>\n",
       "      <td>0.0</td>\n",
       "      <td>1</td>\n",
       "    </tr>\n",
       "    <tr>\n",
       "      <th>9110</th>\n",
       "      <td>Noida</td>\n",
       "      <td>77.367188</td>\n",
       "      <td>28.557842</td>\n",
       "      <td>Fast Food</td>\n",
       "      <td>600</td>\n",
       "      <td>0</td>\n",
       "      <td>0.0</td>\n",
       "      <td>3</td>\n",
       "    </tr>\n",
       "    <tr>\n",
       "      <th>9111</th>\n",
       "      <td>Noida</td>\n",
       "      <td>77.367322</td>\n",
       "      <td>28.557930</td>\n",
       "      <td>North Indian, Chinese</td>\n",
       "      <td>500</td>\n",
       "      <td>0</td>\n",
       "      <td>0.0</td>\n",
       "      <td>0</td>\n",
       "    </tr>\n",
       "    <tr>\n",
       "      <th>9112</th>\n",
       "      <td>Noida</td>\n",
       "      <td>77.367188</td>\n",
       "      <td>28.557852</td>\n",
       "      <td>Raw Meats, Fast Food</td>\n",
       "      <td>250</td>\n",
       "      <td>0</td>\n",
       "      <td>0.0</td>\n",
       "      <td>1</td>\n",
       "    </tr>\n",
       "  </tbody>\n",
       "</table>\n",
       "<p>7922 rows × 8 columns</p>\n",
       "</div>"
      ],
      "text/plain": [
       "           City  Longitude   Latitude                    Cuisines  Average Cost for two  Has Table booking  Aggregate rating  Votes\n",
       "865   Faridabad  77.306640  28.490059  Chinese, Fast Food, Bakery                   250                  0               2.9      4\n",
       "866   Faridabad  77.304776  28.490157       North Indian, Chinese                   500                  0               2.8     16\n",
       "867   Faridabad  77.305563  28.490137                North Indian                   150                  0               2.8      8\n",
       "868   Faridabad  77.306102  28.490098                North Indian                   150                  0               2.9      8\n",
       "869   Faridabad  77.305745  28.490062                      Bakery                   100                  0               2.8      7\n",
       "...         ...        ...        ...                         ...                   ...                ...               ...    ...\n",
       "9108      Noida  77.367524  28.557537       North Indian, Chinese                   700                  0               2.6     34\n",
       "9109      Noida  77.367303  28.557929                   Fast Food                   400                  0               0.0      1\n",
       "9110      Noida  77.367188  28.557842                   Fast Food                   600                  0               0.0      3\n",
       "9111      Noida  77.367322  28.557930       North Indian, Chinese                   500                  0               0.0      0\n",
       "9112      Noida  77.367188  28.557852        Raw Meats, Fast Food                   250                  0               0.0      1\n",
       "\n",
       "[7922 rows x 8 columns]"
      ]
     },
     "execution_count": 36,
     "metadata": {},
     "output_type": "execute_result"
    }
   ],
   "source": [
    "df"
   ]
  },
  {
   "cell_type": "code",
   "execution_count": 37,
   "id": "39c54000",
   "metadata": {},
   "outputs": [],
   "source": [
    "cuisines_f=df.groupby('Cuisines')['Average Cost for two'].mean().sort_values(ascending=False).reset_index()"
   ]
  },
  {
   "cell_type": "code",
   "execution_count": 38,
   "id": "d07d8080",
   "metadata": {},
   "outputs": [],
   "source": [
    "df=df.merge(cuisines_f,left_on='Cuisines',right_on='Cuisines')"
   ]
  },
  {
   "cell_type": "code",
   "execution_count": 39,
   "id": "7cbac0b5",
   "metadata": {},
   "outputs": [],
   "source": [
    "df.drop(columns=['Cuisines'],inplace=True)"
   ]
  },
  {
   "cell_type": "code",
   "execution_count": 40,
   "id": "04990c0c",
   "metadata": {},
   "outputs": [
    {
     "data": {
      "text/html": [
       "<div>\n",
       "<style scoped>\n",
       "    .dataframe tbody tr th:only-of-type {\n",
       "        vertical-align: middle;\n",
       "    }\n",
       "\n",
       "    .dataframe tbody tr th {\n",
       "        vertical-align: top;\n",
       "    }\n",
       "\n",
       "    .dataframe thead th {\n",
       "        text-align: right;\n",
       "    }\n",
       "</style>\n",
       "<table border=\"1\" class=\"dataframe\">\n",
       "  <thead>\n",
       "    <tr style=\"text-align: right;\">\n",
       "      <th></th>\n",
       "      <th>City</th>\n",
       "      <th>Longitude</th>\n",
       "      <th>Latitude</th>\n",
       "      <th>Average Cost for two_x</th>\n",
       "      <th>Has Table booking</th>\n",
       "      <th>Aggregate rating</th>\n",
       "      <th>Votes</th>\n",
       "      <th>Average Cost for two_y</th>\n",
       "    </tr>\n",
       "  </thead>\n",
       "  <tbody>\n",
       "    <tr>\n",
       "      <th>0</th>\n",
       "      <td>Faridabad</td>\n",
       "      <td>77.306640</td>\n",
       "      <td>28.490059</td>\n",
       "      <td>250</td>\n",
       "      <td>0</td>\n",
       "      <td>2.9</td>\n",
       "      <td>4</td>\n",
       "      <td>375.000000</td>\n",
       "    </tr>\n",
       "    <tr>\n",
       "      <th>1</th>\n",
       "      <td>New Delhi</td>\n",
       "      <td>77.049525</td>\n",
       "      <td>28.806199</td>\n",
       "      <td>500</td>\n",
       "      <td>0</td>\n",
       "      <td>0.0</td>\n",
       "      <td>0</td>\n",
       "      <td>375.000000</td>\n",
       "    </tr>\n",
       "    <tr>\n",
       "      <th>2</th>\n",
       "      <td>Faridabad</td>\n",
       "      <td>77.304776</td>\n",
       "      <td>28.490157</td>\n",
       "      <td>500</td>\n",
       "      <td>0</td>\n",
       "      <td>2.8</td>\n",
       "      <td>16</td>\n",
       "      <td>594.303797</td>\n",
       "    </tr>\n",
       "    <tr>\n",
       "      <th>3</th>\n",
       "      <td>Faridabad</td>\n",
       "      <td>0.000000</td>\n",
       "      <td>0.000000</td>\n",
       "      <td>300</td>\n",
       "      <td>0</td>\n",
       "      <td>0.0</td>\n",
       "      <td>0</td>\n",
       "      <td>594.303797</td>\n",
       "    </tr>\n",
       "    <tr>\n",
       "      <th>4</th>\n",
       "      <td>Faridabad</td>\n",
       "      <td>77.305698</td>\n",
       "      <td>28.471985</td>\n",
       "      <td>1200</td>\n",
       "      <td>1</td>\n",
       "      <td>0.0</td>\n",
       "      <td>0</td>\n",
       "      <td>594.303797</td>\n",
       "    </tr>\n",
       "    <tr>\n",
       "      <th>...</th>\n",
       "      <td>...</td>\n",
       "      <td>...</td>\n",
       "      <td>...</td>\n",
       "      <td>...</td>\n",
       "      <td>...</td>\n",
       "      <td>...</td>\n",
       "      <td>...</td>\n",
       "      <td>...</td>\n",
       "    </tr>\n",
       "    <tr>\n",
       "      <th>7917</th>\n",
       "      <td>Noida</td>\n",
       "      <td>77.341021</td>\n",
       "      <td>28.585493</td>\n",
       "      <td>2500</td>\n",
       "      <td>1</td>\n",
       "      <td>2.2</td>\n",
       "      <td>116</td>\n",
       "      <td>2500.000000</td>\n",
       "    </tr>\n",
       "    <tr>\n",
       "      <th>7918</th>\n",
       "      <td>Noida</td>\n",
       "      <td>77.364833</td>\n",
       "      <td>28.597103</td>\n",
       "      <td>200</td>\n",
       "      <td>0</td>\n",
       "      <td>3.0</td>\n",
       "      <td>10</td>\n",
       "      <td>200.000000</td>\n",
       "    </tr>\n",
       "    <tr>\n",
       "      <th>7919</th>\n",
       "      <td>Noida</td>\n",
       "      <td>77.364833</td>\n",
       "      <td>28.597103</td>\n",
       "      <td>450</td>\n",
       "      <td>0</td>\n",
       "      <td>3.5</td>\n",
       "      <td>105</td>\n",
       "      <td>450.000000</td>\n",
       "    </tr>\n",
       "    <tr>\n",
       "      <th>7920</th>\n",
       "      <td>Noida</td>\n",
       "      <td>77.323213</td>\n",
       "      <td>28.567751</td>\n",
       "      <td>1000</td>\n",
       "      <td>1</td>\n",
       "      <td>0.0</td>\n",
       "      <td>0</td>\n",
       "      <td>1000.000000</td>\n",
       "    </tr>\n",
       "    <tr>\n",
       "      <th>7921</th>\n",
       "      <td>Noida</td>\n",
       "      <td>77.325308</td>\n",
       "      <td>28.567150</td>\n",
       "      <td>450</td>\n",
       "      <td>0</td>\n",
       "      <td>2.0</td>\n",
       "      <td>161</td>\n",
       "      <td>450.000000</td>\n",
       "    </tr>\n",
       "  </tbody>\n",
       "</table>\n",
       "<p>7922 rows × 8 columns</p>\n",
       "</div>"
      ],
      "text/plain": [
       "           City  Longitude   Latitude  Average Cost for two_x  Has Table booking  Aggregate rating  Votes  Average Cost for two_y\n",
       "0     Faridabad  77.306640  28.490059                     250                  0               2.9      4              375.000000\n",
       "1     New Delhi  77.049525  28.806199                     500                  0               0.0      0              375.000000\n",
       "2     Faridabad  77.304776  28.490157                     500                  0               2.8     16              594.303797\n",
       "3     Faridabad   0.000000   0.000000                     300                  0               0.0      0              594.303797\n",
       "4     Faridabad  77.305698  28.471985                    1200                  1               0.0      0              594.303797\n",
       "...         ...        ...        ...                     ...                ...               ...    ...                     ...\n",
       "7917      Noida  77.341021  28.585493                    2500                  1               2.2    116             2500.000000\n",
       "7918      Noida  77.364833  28.597103                     200                  0               3.0     10              200.000000\n",
       "7919      Noida  77.364833  28.597103                     450                  0               3.5    105              450.000000\n",
       "7920      Noida  77.323213  28.567751                    1000                  1               0.0      0             1000.000000\n",
       "7921      Noida  77.325308  28.567150                     450                  0               2.0    161              450.000000\n",
       "\n",
       "[7922 rows x 8 columns]"
      ]
     },
     "execution_count": 40,
     "metadata": {},
     "output_type": "execute_result"
    }
   ],
   "source": [
    "df"
   ]
  },
  {
   "cell_type": "code",
   "execution_count": 41,
   "id": "e07f3f0b",
   "metadata": {},
   "outputs": [],
   "source": [
    "df.rename(columns={'Average Cost for two_x':'cost','Average Cost for two_y':'cuisine'},inplace=True)"
   ]
  },
  {
   "cell_type": "code",
   "execution_count": 42,
   "id": "163f5da4",
   "metadata": {},
   "outputs": [
    {
     "data": {
      "text/html": [
       "<div>\n",
       "<style scoped>\n",
       "    .dataframe tbody tr th:only-of-type {\n",
       "        vertical-align: middle;\n",
       "    }\n",
       "\n",
       "    .dataframe tbody tr th {\n",
       "        vertical-align: top;\n",
       "    }\n",
       "\n",
       "    .dataframe thead th {\n",
       "        text-align: right;\n",
       "    }\n",
       "</style>\n",
       "<table border=\"1\" class=\"dataframe\">\n",
       "  <thead>\n",
       "    <tr style=\"text-align: right;\">\n",
       "      <th></th>\n",
       "      <th>City</th>\n",
       "      <th>Longitude</th>\n",
       "      <th>Latitude</th>\n",
       "      <th>cost</th>\n",
       "      <th>Has Table booking</th>\n",
       "      <th>Aggregate rating</th>\n",
       "      <th>Votes</th>\n",
       "      <th>cuisine</th>\n",
       "    </tr>\n",
       "  </thead>\n",
       "  <tbody>\n",
       "    <tr>\n",
       "      <th>0</th>\n",
       "      <td>Faridabad</td>\n",
       "      <td>77.306640</td>\n",
       "      <td>28.490059</td>\n",
       "      <td>250</td>\n",
       "      <td>0</td>\n",
       "      <td>2.9</td>\n",
       "      <td>4</td>\n",
       "      <td>375.000000</td>\n",
       "    </tr>\n",
       "    <tr>\n",
       "      <th>1</th>\n",
       "      <td>New Delhi</td>\n",
       "      <td>77.049525</td>\n",
       "      <td>28.806199</td>\n",
       "      <td>500</td>\n",
       "      <td>0</td>\n",
       "      <td>0.0</td>\n",
       "      <td>0</td>\n",
       "      <td>375.000000</td>\n",
       "    </tr>\n",
       "    <tr>\n",
       "      <th>2</th>\n",
       "      <td>Faridabad</td>\n",
       "      <td>77.304776</td>\n",
       "      <td>28.490157</td>\n",
       "      <td>500</td>\n",
       "      <td>0</td>\n",
       "      <td>2.8</td>\n",
       "      <td>16</td>\n",
       "      <td>594.303797</td>\n",
       "    </tr>\n",
       "    <tr>\n",
       "      <th>3</th>\n",
       "      <td>Faridabad</td>\n",
       "      <td>0.000000</td>\n",
       "      <td>0.000000</td>\n",
       "      <td>300</td>\n",
       "      <td>0</td>\n",
       "      <td>0.0</td>\n",
       "      <td>0</td>\n",
       "      <td>594.303797</td>\n",
       "    </tr>\n",
       "    <tr>\n",
       "      <th>4</th>\n",
       "      <td>Faridabad</td>\n",
       "      <td>77.305698</td>\n",
       "      <td>28.471985</td>\n",
       "      <td>1200</td>\n",
       "      <td>1</td>\n",
       "      <td>0.0</td>\n",
       "      <td>0</td>\n",
       "      <td>594.303797</td>\n",
       "    </tr>\n",
       "    <tr>\n",
       "      <th>...</th>\n",
       "      <td>...</td>\n",
       "      <td>...</td>\n",
       "      <td>...</td>\n",
       "      <td>...</td>\n",
       "      <td>...</td>\n",
       "      <td>...</td>\n",
       "      <td>...</td>\n",
       "      <td>...</td>\n",
       "    </tr>\n",
       "    <tr>\n",
       "      <th>7917</th>\n",
       "      <td>Noida</td>\n",
       "      <td>77.341021</td>\n",
       "      <td>28.585493</td>\n",
       "      <td>2500</td>\n",
       "      <td>1</td>\n",
       "      <td>2.2</td>\n",
       "      <td>116</td>\n",
       "      <td>2500.000000</td>\n",
       "    </tr>\n",
       "    <tr>\n",
       "      <th>7918</th>\n",
       "      <td>Noida</td>\n",
       "      <td>77.364833</td>\n",
       "      <td>28.597103</td>\n",
       "      <td>200</td>\n",
       "      <td>0</td>\n",
       "      <td>3.0</td>\n",
       "      <td>10</td>\n",
       "      <td>200.000000</td>\n",
       "    </tr>\n",
       "    <tr>\n",
       "      <th>7919</th>\n",
       "      <td>Noida</td>\n",
       "      <td>77.364833</td>\n",
       "      <td>28.597103</td>\n",
       "      <td>450</td>\n",
       "      <td>0</td>\n",
       "      <td>3.5</td>\n",
       "      <td>105</td>\n",
       "      <td>450.000000</td>\n",
       "    </tr>\n",
       "    <tr>\n",
       "      <th>7920</th>\n",
       "      <td>Noida</td>\n",
       "      <td>77.323213</td>\n",
       "      <td>28.567751</td>\n",
       "      <td>1000</td>\n",
       "      <td>1</td>\n",
       "      <td>0.0</td>\n",
       "      <td>0</td>\n",
       "      <td>1000.000000</td>\n",
       "    </tr>\n",
       "    <tr>\n",
       "      <th>7921</th>\n",
       "      <td>Noida</td>\n",
       "      <td>77.325308</td>\n",
       "      <td>28.567150</td>\n",
       "      <td>450</td>\n",
       "      <td>0</td>\n",
       "      <td>2.0</td>\n",
       "      <td>161</td>\n",
       "      <td>450.000000</td>\n",
       "    </tr>\n",
       "  </tbody>\n",
       "</table>\n",
       "<p>7922 rows × 8 columns</p>\n",
       "</div>"
      ],
      "text/plain": [
       "           City  Longitude   Latitude  cost  Has Table booking  Aggregate rating  Votes      cuisine\n",
       "0     Faridabad  77.306640  28.490059   250                  0               2.9      4   375.000000\n",
       "1     New Delhi  77.049525  28.806199   500                  0               0.0      0   375.000000\n",
       "2     Faridabad  77.304776  28.490157   500                  0               2.8     16   594.303797\n",
       "3     Faridabad   0.000000   0.000000   300                  0               0.0      0   594.303797\n",
       "4     Faridabad  77.305698  28.471985  1200                  1               0.0      0   594.303797\n",
       "...         ...        ...        ...   ...                ...               ...    ...          ...\n",
       "7917      Noida  77.341021  28.585493  2500                  1               2.2    116  2500.000000\n",
       "7918      Noida  77.364833  28.597103   200                  0               3.0     10   200.000000\n",
       "7919      Noida  77.364833  28.597103   450                  0               3.5    105   450.000000\n",
       "7920      Noida  77.323213  28.567751  1000                  1               0.0      0  1000.000000\n",
       "7921      Noida  77.325308  28.567150   450                  0               2.0    161   450.000000\n",
       "\n",
       "[7922 rows x 8 columns]"
      ]
     },
     "execution_count": 42,
     "metadata": {},
     "output_type": "execute_result"
    }
   ],
   "source": [
    "df"
   ]
  },
  {
   "cell_type": "code",
   "execution_count": 43,
   "id": "528bfd2f",
   "metadata": {},
   "outputs": [
    {
     "data": {
      "text/plain": [
       "Longitude            0.071752\n",
       "Latitude             0.070993\n",
       "cost                 1.000000\n",
       "Has Table booking    0.642966\n",
       "Aggregate rating     0.328440\n",
       "Votes                0.299089\n",
       "cuisine              0.808274\n",
       "Name: cost, dtype: float64"
      ]
     },
     "execution_count": 43,
     "metadata": {},
     "output_type": "execute_result"
    }
   ],
   "source": [
    "df.corr()['cost']"
   ]
  },
  {
   "cell_type": "code",
   "execution_count": 44,
   "id": "c61c5471",
   "metadata": {},
   "outputs": [
    {
     "data": {
      "text/plain": [
       "(7922,)"
      ]
     },
     "execution_count": 44,
     "metadata": {},
     "output_type": "execute_result"
    }
   ],
   "source": [
    "y=df.iloc[:,3].values\n",
    "y.shape"
   ]
  },
  {
   "cell_type": "code",
   "execution_count": null,
   "id": "7aeb8fd2",
   "metadata": {},
   "outputs": [],
   "source": []
  },
  {
   "cell_type": "code",
   "execution_count": 45,
   "id": "d408ce24",
   "metadata": {},
   "outputs": [],
   "source": [
    "x=df.drop(columns=['cost']).iloc[:,:].values\n"
   ]
  },
  {
   "cell_type": "code",
   "execution_count": 46,
   "id": "7b182499",
   "metadata": {},
   "outputs": [],
   "source": [
    "from sklearn.preprocessing import LabelEncoder\n",
    "encoder=LabelEncoder()\n",
    "x[:,0]=encoder.fit_transform(x[:,0])"
   ]
  },
  {
   "cell_type": "code",
   "execution_count": 47,
   "id": "f1ae695a",
   "metadata": {},
   "outputs": [
    {
     "data": {
      "text/plain": [
       "array([[0, 77.3066401, 28.4900591, ..., 2.9, 4, 375.0],\n",
       "       [2, 77.04952508, 28.80619877, ..., 0.0, 0, 375.0],\n",
       "       [0, 77.304776, 28.4901567, ..., 2.8, 16, 594.3037974683544],\n",
       "       ...,\n",
       "       [3, 77.3648332, 28.5971027, ..., 3.5, 105, 450.0],\n",
       "       [3, 77.32321292, 28.5677509, ..., 0.0, 0, 1000.0],\n",
       "       [3, 77.3253081, 28.5671503, ..., 2.0, 161, 450.0]], dtype=object)"
      ]
     },
     "execution_count": 47,
     "metadata": {},
     "output_type": "execute_result"
    }
   ],
   "source": [
    "x"
   ]
  },
  {
   "cell_type": "code",
   "execution_count": 48,
   "id": "22c3b536",
   "metadata": {},
   "outputs": [
    {
     "data": {
      "text/plain": [
       "array([0, 2, 0, ..., 3, 3, 3], dtype=object)"
      ]
     },
     "execution_count": 48,
     "metadata": {},
     "output_type": "execute_result"
    }
   ],
   "source": [
    "x[:,0]"
   ]
  },
  {
   "cell_type": "code",
   "execution_count": 49,
   "id": "76f07b83",
   "metadata": {},
   "outputs": [],
   "source": [
    "# from sklearn.preprocessing import OneHotEncoder\n",
    "# one = OneHotEncoder(categorical_features=[0])\n",
    "# x=one.fit_transform(x).toarray()"
   ]
  },
  {
   "cell_type": "code",
   "execution_count": 50,
   "id": "ef14e96b",
   "metadata": {},
   "outputs": [
    {
     "name": "stdout",
     "output_type": "stream",
     "text": [
      "<class 'pandas.core.frame.DataFrame'>\n",
      "Int64Index: 7922 entries, 0 to 7921\n",
      "Data columns (total 8 columns):\n",
      " #   Column             Non-Null Count  Dtype  \n",
      "---  ------             --------------  -----  \n",
      " 0   City               7922 non-null   object \n",
      " 1   Longitude          7922 non-null   float64\n",
      " 2   Latitude           7922 non-null   float64\n",
      " 3   cost               7922 non-null   int64  \n",
      " 4   Has Table booking  7922 non-null   int64  \n",
      " 5   Aggregate rating   7922 non-null   float64\n",
      " 6   Votes              7922 non-null   int64  \n",
      " 7   cuisine            7922 non-null   float64\n",
      "dtypes: float64(4), int64(3), object(1)\n",
      "memory usage: 557.0+ KB\n"
     ]
    }
   ],
   "source": [
    "df.info()"
   ]
  },
  {
   "cell_type": "code",
   "execution_count": 51,
   "id": "317d478e",
   "metadata": {},
   "outputs": [],
   "source": [
    "#df[\"Has Table booking\"]=df[\"Has Table booking\"].astype(\"int64\")"
   ]
  },
  {
   "cell_type": "code",
   "execution_count": 52,
   "id": "05a2012b",
   "metadata": {},
   "outputs": [
    {
     "data": {
      "text/plain": [
       "array([[0, 77.3066401, 28.4900591, 0],\n",
       "       [2, 77.04952508, 28.80619877, 0],\n",
       "       [0, 77.304776, 28.4901567, 0],\n",
       "       ...,\n",
       "       [3, 77.3648332, 28.5971027, 0],\n",
       "       [3, 77.32321292, 28.5677509, 1],\n",
       "       [3, 77.3253081, 28.5671503, 0]], dtype=object)"
      ]
     },
     "execution_count": 52,
     "metadata": {},
     "output_type": "execute_result"
    }
   ],
   "source": [
    "x[:,0:4]"
   ]
  },
  {
   "cell_type": "code",
   "execution_count": 53,
   "id": "bcd32e62",
   "metadata": {},
   "outputs": [],
   "source": [
    "x=x[:,1:]"
   ]
  },
  {
   "cell_type": "code",
   "execution_count": 76,
   "id": "3a00e4b8",
   "metadata": {},
   "outputs": [
    {
     "data": {
      "text/plain": [
       "array([ 250,  500,  500, ...,  450, 1000,  450], dtype=int64)"
      ]
     },
     "execution_count": 76,
     "metadata": {},
     "output_type": "execute_result"
    }
   ],
   "source": [
    "y"
   ]
  },
  {
   "cell_type": "markdown",
   "id": "2f168ce7",
   "metadata": {},
   "source": [
    "## Model building using linear regression"
   ]
  },
  {
   "cell_type": "code",
   "execution_count": 58,
   "id": "88d2e5b1",
   "metadata": {},
   "outputs": [],
   "source": [
    "from sklearn.model_selection import train_test_split\n",
    "X_train,X_test,y_train,y_test=train_test_split(x,y,test_size=0.2,random_state=7)\n"
   ]
  },
  {
   "cell_type": "code",
   "execution_count": 84,
   "id": "4ccc4ee3",
   "metadata": {},
   "outputs": [
    {
     "data": {
      "text/plain": [
       "(6337,)"
      ]
     },
     "execution_count": 84,
     "metadata": {},
     "output_type": "execute_result"
    }
   ],
   "source": [
    "y_train.shape"
   ]
  },
  {
   "cell_type": "code",
   "execution_count": 87,
   "id": "f84b5d18",
   "metadata": {},
   "outputs": [],
   "source": [
    "from sklearn.linear_model import LinearRegression\n",
    "#model=LinearRegression()\n",
    "model=LinearRegression().fit(X_train,y_train)"
   ]
  },
  {
   "cell_type": "code",
   "execution_count": 88,
   "id": "f91de46c",
   "metadata": {},
   "outputs": [
    {
     "name": "stdout",
     "output_type": "stream",
     "text": [
      "coefficient of determination: 0.7140166223722622\n",
      "intercept: -9.133001118274478\n",
      "coefficients: [ 2.77972066e+00 -7.42318358e+00  4.74814486e+02  3.39567397e+01\n",
      "  5.52291600e-02  7.58233752e-01]\n"
     ]
    }
   ],
   "source": [
    "print(f\"intercept: {model.intercept_}\")\n",
    "\n",
    "\n",
    "print(f\"coefficients: {model.coef_}\")"
   ]
  },
  {
   "cell_type": "code",
   "execution_count": 96,
   "id": "157aac5d",
   "metadata": {},
   "outputs": [
    {
     "name": "stdout",
     "output_type": "stream",
     "text": [
      "predicted response:\n",
      "[[205.75786371979297 -220.61993999158673 -9.133001118274478\n",
      "  89.34154412557963 -8.912084478360503 275.20465571378776]\n",
      " [205.04315578604775 -222.96670279857295 -9.133001118274478\n",
      "  -9.133001118274478 -9.133001118274478 275.20465571378776]\n",
      " [205.75268204250594 -220.62066449430404 -9.133001118274478\n",
      "  85.94587015165362 -8.249334558618582 441.4881967978546]\n",
      " ...\n",
      " [205.91962428228067 -221.41454428533422 -9.133001118274478\n",
      "  109.71558796913565 -3.3339393205326546 332.0721870802002]\n",
      " [205.80393152998366 -221.19666048556275 465.68148496943104\n",
      "  -9.133001118274478 -9.133001118274478 749.1007504338916]\n",
      " [205.80975554512142 -221.19220212150526 -9.133001118274478\n",
      "  58.780478360245596 -0.24110636173701572 332.0721870802002]]\n"
     ]
    }
   ],
   "source": [
    "y_pred = model.intercept_ + model.coef_ * x\n",
    "print(f\"predicted response:\\n{y_pred}\")"
   ]
  },
  {
   "cell_type": "code",
   "execution_count": null,
   "id": "8a6bdb06",
   "metadata": {},
   "outputs": [],
   "source": [
    "\n"
   ]
  },
  {
   "cell_type": "code",
   "execution_count": null,
   "id": "09bfff07",
   "metadata": {},
   "outputs": [],
   "source": []
  }
 ],
 "metadata": {
  "kernelspec": {
   "display_name": "Python 3 (ipykernel)",
   "language": "python",
   "name": "python3"
  },
  "language_info": {
   "codemirror_mode": {
    "name": "ipython",
    "version": 3
   },
   "file_extension": ".py",
   "mimetype": "text/x-python",
   "name": "python",
   "nbconvert_exporter": "python",
   "pygments_lexer": "ipython3",
   "version": "3.9.12"
  }
 },
 "nbformat": 4,
 "nbformat_minor": 5
}
